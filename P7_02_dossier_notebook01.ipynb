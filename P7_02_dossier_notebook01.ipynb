{
 "cells": [
  {
   "cell_type": "code",
   "execution_count": 1,
   "id": "5e389151",
   "metadata": {
    "_cell_guid": "b1076dfc-b9ad-4769-8c92-a6c4dae69d19",
    "_uuid": "8f2839f25d086af736a60e9eeb907d3b93b6e0e5",
    "execution": {
     "iopub.execute_input": "2021-12-06T12:46:42.901966Z",
     "iopub.status.busy": "2021-12-06T12:46:42.900880Z",
     "iopub.status.idle": "2021-12-06T12:46:45.384928Z",
     "shell.execute_reply": "2021-12-06T12:46:45.385436Z",
     "shell.execute_reply.started": "2021-12-05T16:09:35.715314Z"
    },
    "papermill": {
     "duration": 2.510417,
     "end_time": "2021-12-06T12:46:45.385766",
     "exception": false,
     "start_time": "2021-12-06T12:46:42.875349",
     "status": "completed"
    },
    "tags": []
   },
   "outputs": [
    {
     "data": {
      "text/html": [
       "<style type='text/css'>\n",
       ".datatable table.frame { margin-bottom: 0; }\n",
       ".datatable table.frame thead { border-bottom: none; }\n",
       ".datatable table.frame tr.coltypes td {  color: #FFFFFF;  line-height: 6px;  padding: 0 0.5em;}\n",
       ".datatable .bool    { background: #DDDD99; }\n",
       ".datatable .object  { background: #565656; }\n",
       ".datatable .int     { background: #5D9E5D; }\n",
       ".datatable .float   { background: #4040CC; }\n",
       ".datatable .str     { background: #CC4040; }\n",
       ".datatable .time    { background: #40CC40; }\n",
       ".datatable .row_index {  background: var(--jp-border-color3);  border-right: 1px solid var(--jp-border-color0);  color: var(--jp-ui-font-color3);  font-size: 9px;}\n",
       ".datatable .frame tbody td { text-align: left; }\n",
       ".datatable .frame tr.coltypes .row_index {  background: var(--jp-border-color0);}\n",
       ".datatable th:nth-child(2) { padding-left: 12px; }\n",
       ".datatable .hellipsis {  color: var(--jp-cell-editor-border-color);}\n",
       ".datatable .vellipsis {  background: var(--jp-layout-color0);  color: var(--jp-cell-editor-border-color);}\n",
       ".datatable .na {  color: var(--jp-cell-editor-border-color);  font-size: 80%;}\n",
       ".datatable .sp {  opacity: 0.25;}\n",
       ".datatable .footer { font-size: 9px; }\n",
       ".datatable .frame_dimensions {  background: var(--jp-border-color3);  border-top: 1px solid var(--jp-border-color0);  color: var(--jp-ui-font-color3);  display: inline-block;  opacity: 0.6;  padding: 1px 10px 1px 5px;}\n",
       ".datatable .frame thead tr.colnames {  background-image: url('data:image/png;base64,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');  background-repeat: repeat-x;  background-size: 14px;  height: 28px;}\n",
       "</style>\n"
      ],
      "text/plain": [
       "<IPython.core.display.HTML object>"
      ]
     },
     "metadata": {},
     "output_type": "display_data"
    }
   ],
   "source": [
    "# Libraries import\n",
    "import os\n",
    "import numpy as np\n",
    "import matplotlib.pyplot as plt\n",
    "import seaborn as sns\n",
    "import pandas as pd\n",
    "pd.set_option('display.max_columns', None)\n",
    "import re\n",
    "import time\n",
    "import gc\n",
    "from collections import Counter\n",
    "from imblearn.over_sampling import SMOTE\n",
    "from imblearn.under_sampling import RandomUnderSampler\n",
    "from imblearn.pipeline import Pipeline\n",
    "from sklearn import decomposition\n",
    "from sklearn.impute import SimpleImputer\n",
    "from sklearn.preprocessing import StandardScaler\n",
    "from sklearn.dummy import DummyClassifier\n",
    "from sklearn.metrics import roc_auc_score, roc_curve, precision_recall_curve, f1_score, fbeta_score, precision_score, recall_score\n",
    "from sklearn.model_selection import KFold, StratifiedKFold\n",
    "from sklearn import linear_model, neighbors\n",
    "from sklearn.ensemble import RandomForestClassifier\n",
    "from sklearn.model_selection import GridSearchCV,RandomizedSearchCV , train_test_split\n",
    "from xgboost import XGBClassifier\n",
    "from lightgbm import LGBMClassifier"
   ]
  },
  {
   "cell_type": "markdown",
   "id": "5843ad33",
   "metadata": {
    "papermill": {
     "duration": 0.020921,
     "end_time": "2021-12-06T12:46:45.428930",
     "exception": false,
     "start_time": "2021-12-06T12:46:45.408009",
     "status": "completed"
    },
    "tags": []
   },
   "source": [
    "## **Getting data from Kernel output and first preprocess**"
   ]
  },
  {
   "cell_type": "markdown",
   "id": "b9e909a4",
   "metadata": {
    "papermill": {
     "duration": 0.020799,
     "end_time": "2021-12-06T12:46:45.470995",
     "exception": false,
     "start_time": "2021-12-06T12:46:45.450196",
     "status": "completed"
    },
    "tags": []
   },
   "source": [
    "Using the \"Home_credit_risk_data_modeling.csv\" which is the output from the choosen kernel (https://www.kaggle.com/jsaguiar/lightgbm-with-simple-features) to get X_train_sample and X_test_sample.<br/>\n",
    "We will only use X_train_sample for our project"
   ]
  },
  {
   "cell_type": "code",
   "execution_count": 2,
   "id": "2c410d04",
   "metadata": {
    "execution": {
     "iopub.execute_input": "2021-12-06T12:46:45.516466Z",
     "iopub.status.busy": "2021-12-06T12:46:45.515558Z",
     "iopub.status.idle": "2021-12-06T12:47:30.413194Z",
     "shell.execute_reply": "2021-12-06T12:47:30.413629Z",
     "shell.execute_reply.started": "2021-12-05T16:09:50.413265Z"
    },
    "papermill": {
     "duration": 44.921902,
     "end_time": "2021-12-06T12:47:30.413801",
     "exception": false,
     "start_time": "2021-12-06T12:46:45.491899",
     "status": "completed"
    },
    "tags": []
   },
   "outputs": [
    {
     "name": "stdout",
     "output_type": "stream",
     "text": [
      "<class 'pandas.core.frame.DataFrame'>\n",
      "Int64Index: 356251 entries, 0 to 356254\n",
      "Columns: 798 entries, index to CC_COUNT\n",
      "dtypes: float64(622), int64(176)\n",
      "memory usage: 2.1 GB\n"
     ]
    },
    {
     "data": {
      "text/plain": [
       "0"
      ]
     },
     "execution_count": 2,
     "metadata": {},
     "output_type": "execute_result"
    }
   ],
   "source": [
    "df_data_mod = pd.read_csv('../input/home-risk-preprocess/Home_credit_risk_data_modeling.csv', index_col=0)\n",
    "df_data_mod.info()\n",
    "columns_no_nan = [i for i in df_data_mod.columns if df_data_mod[i].isnull().sum() == 0]\n",
    "df_train_sample = df_data_mod.loc[~(df_data_mod['TARGET'].isnull())]\n",
    "df_test_sample = df_data_mod.loc[df_data_mod['TARGET'].isnull()]\n",
    "del df_data_mod\n",
    "gc.collect()"
   ]
  },
  {
   "cell_type": "code",
   "execution_count": 3,
   "id": "e73d80fd",
   "metadata": {
    "execution": {
     "iopub.execute_input": "2021-12-06T12:47:30.460626Z",
     "iopub.status.busy": "2021-12-06T12:47:30.460051Z",
     "iopub.status.idle": "2021-12-06T12:47:32.389810Z",
     "shell.execute_reply": "2021-12-06T12:47:32.390377Z",
     "shell.execute_reply.started": "2021-12-05T16:10:56.701384Z"
    },
    "papermill": {
     "duration": 1.955087,
     "end_time": "2021-12-06T12:47:32.390545",
     "exception": false,
     "start_time": "2021-12-06T12:47:30.435458",
     "status": "completed"
    },
    "tags": []
   },
   "outputs": [
    {
     "data": {
      "text/plain": [
       "20"
      ]
     },
     "execution_count": 3,
     "metadata": {},
     "output_type": "execute_result"
    }
   ],
   "source": [
    "# Defining X and y with train data\n",
    "X = df_train_sample.drop(columns = ['TARGET','SK_ID_CURR','index']).copy()\n",
    "y = df_train_sample['TARGET'].copy()\n",
    "# keep SK_ID_CURR for later evantually\n",
    "index_global_train_SK_ID_CURR = df_train_sample['SK_ID_CURR']\n",
    "# Checking inf\n",
    "np.isinf(X).values.sum()"
   ]
  },
  {
   "cell_type": "code",
   "execution_count": 4,
   "id": "2a48f3dd",
   "metadata": {
    "execution": {
     "iopub.execute_input": "2021-12-06T12:47:32.441793Z",
     "iopub.status.busy": "2021-12-06T12:47:32.441173Z",
     "iopub.status.idle": "2021-12-06T12:47:41.428029Z",
     "shell.execute_reply": "2021-12-06T12:47:41.427435Z",
     "shell.execute_reply.started": "2021-12-05T16:11:01.678845Z"
    },
    "papermill": {
     "duration": 9.013289,
     "end_time": "2021-12-06T12:47:41.428168",
     "exception": false,
     "start_time": "2021-12-06T12:47:32.414879",
     "status": "completed"
    },
    "tags": []
   },
   "outputs": [
    {
     "data": {
      "text/plain": [
       "0"
      ]
     },
     "execution_count": 4,
     "metadata": {},
     "output_type": "execute_result"
    }
   ],
   "source": [
    "# Replace inf values by max() and min() values and check\n",
    "col_min_max = {np.inf: X[np.isfinite(X)].max(),    # column-wise max\n",
    "              -np.inf: X[np.isfinite(X)].min()}    # column-wise min\n",
    "\n",
    "X = X.replace({col: col_min_max for col in X.columns})\n",
    "np.isinf(X).values.sum()"
   ]
  },
  {
   "cell_type": "code",
   "execution_count": 5,
   "id": "0f926826",
   "metadata": {
    "execution": {
     "iopub.execute_input": "2021-12-06T12:47:41.478543Z",
     "iopub.status.busy": "2021-12-06T12:47:41.476922Z",
     "iopub.status.idle": "2021-12-06T12:47:41.893948Z",
     "shell.execute_reply": "2021-12-06T12:47:41.894371Z",
     "shell.execute_reply.started": "2021-12-05T16:11:14.487137Z"
    },
    "papermill": {
     "duration": 0.444286,
     "end_time": "2021-12-06T12:47:41.894524",
     "exception": false,
     "start_time": "2021-12-06T12:47:41.450238",
     "status": "completed"
    },
    "tags": []
   },
   "outputs": [
    {
     "data": {
      "text/plain": [
       "CODE_GENDER                              0\n",
       "FLAG_OWN_CAR                             0\n",
       "FLAG_OWN_REALTY                          0\n",
       "CNT_CHILDREN                             0\n",
       "AMT_INCOME_TOTAL                         0\n",
       "                                     ...  \n",
       "CC_NAME_CONTRACT_STATUS_nan_MAX     220602\n",
       "CC_NAME_CONTRACT_STATUS_nan_MEAN    220602\n",
       "CC_NAME_CONTRACT_STATUS_nan_SUM     220602\n",
       "CC_NAME_CONTRACT_STATUS_nan_VAR     221234\n",
       "CC_COUNT                            220602\n",
       "Length: 795, dtype: int64"
      ]
     },
     "execution_count": 5,
     "metadata": {},
     "output_type": "execute_result"
    }
   ],
   "source": [
    "# Checking NaN values\n",
    "X.isna().sum()"
   ]
  },
  {
   "cell_type": "code",
   "execution_count": 6,
   "id": "d1aabac7",
   "metadata": {
    "execution": {
     "iopub.execute_input": "2021-12-06T12:47:41.943200Z",
     "iopub.status.busy": "2021-12-06T12:47:41.942637Z",
     "iopub.status.idle": "2021-12-06T12:47:41.947480Z",
     "shell.execute_reply": "2021-12-06T12:47:41.947964Z",
     "shell.execute_reply.started": "2021-12-05T16:11:34.520418Z"
    },
    "papermill": {
     "duration": 0.030099,
     "end_time": "2021-12-06T12:47:41.948123",
     "exception": false,
     "start_time": "2021-12-06T12:47:41.918024",
     "status": "completed"
    },
    "tags": []
   },
   "outputs": [],
   "source": [
    "# Function for features detection before imputation, numerical continue or numerical discrete\n",
    "def list_features_att(df):\n",
    "    '''Function to attribute to columns of a dataframe a category into a several list\n",
    "    it returns two lists.\n",
    "    --> Numerical: num_list\n",
    "    --> discrete_numerical: num_dis_list'''\n",
    "    \n",
    "    num_list = list()\n",
    "    num_dis_list = list()\n",
    "    for name in df.columns:\n",
    "        if df[name].nunique() < 10:\n",
    "            num_dis_list.append(name)\n",
    "        else:\n",
    "            num_list.append(name)\n",
    "    return num_list, num_dis_list"
   ]
  },
  {
   "cell_type": "code",
   "execution_count": 7,
   "id": "11b70c7e",
   "metadata": {
    "execution": {
     "iopub.execute_input": "2021-12-06T12:47:41.999064Z",
     "iopub.status.busy": "2021-12-06T12:47:41.998460Z",
     "iopub.status.idle": "2021-12-06T12:48:07.527716Z",
     "shell.execute_reply": "2021-12-06T12:48:07.528461Z",
     "shell.execute_reply.started": "2021-12-05T16:11:51.866236Z"
    },
    "papermill": {
     "duration": 25.558154,
     "end_time": "2021-12-06T12:48:07.528660",
     "exception": false,
     "start_time": "2021-12-06T12:47:41.970506",
     "status": "completed"
    },
    "tags": []
   },
   "outputs": [
    {
     "name": "stdout",
     "output_type": "stream",
     "text": [
      "time for imputation: 22.39\n"
     ]
    }
   ],
   "source": [
    "# Imputation in function of the numeric format\n",
    "numerical_cont_list, numerical_disc_list = list_features_att(X)\n",
    "time_init = time.time()\n",
    "#imputation on numeric continue columns with 'mean' strategy\n",
    "X[numerical_cont_list] = SimpleImputer(strategy='mean').fit_transform(X[numerical_cont_list])\n",
    "#imputation on  discrete numeric columns with 'most_frequent' strategy\n",
    "X[numerical_disc_list] = SimpleImputer(strategy='most_frequent').fit_transform(X[numerical_disc_list])\n",
    "print (f'time for imputation: {time.time() - time_init:.2f}')"
   ]
  },
  {
   "cell_type": "markdown",
   "id": "3eb57710",
   "metadata": {
    "papermill": {
     "duration": 0.022313,
     "end_time": "2021-12-06T12:48:07.575748",
     "exception": false,
     "start_time": "2021-12-06T12:48:07.553435",
     "status": "completed"
    },
    "tags": []
   },
   "source": [
    "## **Sample our data to make ModelSearch easier**"
   ]
  },
  {
   "cell_type": "markdown",
   "id": "b9cc6115",
   "metadata": {
    "papermill": {
     "duration": 0.022079,
     "end_time": "2021-12-06T12:48:07.620284",
     "exception": false,
     "start_time": "2021-12-06T12:48:07.598205",
     "status": "completed"
    },
    "tags": []
   },
   "source": [
    " We have 795 features and 307507 rows! Let's reduce our data with train_test_split with stratified option to keep 5% of our data.<br/>\n",
    " It will only be used for the search of a potential best model"
   ]
  },
  {
   "cell_type": "code",
   "execution_count": 8,
   "id": "2275657c",
   "metadata": {
    "execution": {
     "iopub.execute_input": "2021-12-06T12:48:07.673005Z",
     "iopub.status.busy": "2021-12-06T12:48:07.668086Z",
     "iopub.status.idle": "2021-12-06T12:48:11.187551Z",
     "shell.execute_reply": "2021-12-06T12:48:11.188610Z",
     "shell.execute_reply.started": "2021-12-05T12:29:02.960516Z"
    },
    "papermill": {
     "duration": 3.546139,
     "end_time": "2021-12-06T12:48:11.188901",
     "exception": false,
     "start_time": "2021-12-06T12:48:07.642762",
     "status": "completed"
    },
    "tags": []
   },
   "outputs": [
    {
     "data": {
      "image/png": "[encoded data removed]",
      "text/plain": [
       "<Figure size 720x504 with 1 Axes>"
      ]
     },
     "metadata": {},
     "output_type": "display_data"
    },
    {
     "name": "stdout",
     "output_type": "stream",
     "text": [
      "sample features shape:(15375, 795), sample target shape: (15375,)\n"
     ]
    }
   ],
   "source": [
    "# keeping only train result in our split\n",
    "X1,_,y1,_ = train_test_split(X, y, train_size=0.05, stratify=y, random_state=4)\n",
    "# verifying that our problem is still imbalanced\n",
    "figure1 = plt.figure(figsize=(10,7), facecolor='w')\n",
    "plt.title('Répartion des crédits payés à temps et avec difficultés dans notre sample', fontweight='bold', pad=20)\n",
    "plt.axis('off')\n",
    "x = y1.value_counts()\n",
    "expl = [0 if i/x.sum() > 0.02 else 0.8 for i in x]\n",
    "plt.pie(x, labels=[i for i in x.index], autopct=\"%.1f%%\", pctdistance=0.8,\n",
    "        explode=expl, textprops={'fontsize': 10, 'fontweight': 'bold'})\n",
    "plt.legend(['Remboursés', 'Difficultés de paiement'])\n",
    "plt.show()\n",
    "print(f'sample features shape:{X1.shape}, sample target shape: {y1.shape}')"
   ]
  },
  {
   "cell_type": "markdown",
   "id": "19386d55",
   "metadata": {
    "papermill": {
     "duration": 0.024012,
     "end_time": "2021-12-06T12:48:11.238327",
     "exception": false,
     "start_time": "2021-12-06T12:48:11.214315",
     "status": "completed"
    },
    "tags": []
   },
   "source": [
    "Finally we have 15375 row with the same imbalanced state as our complete data"
   ]
  },
  {
   "cell_type": "markdown",
   "id": "e107bd21",
   "metadata": {
    "papermill": {
     "duration": 0.023639,
     "end_time": "2021-12-06T12:48:11.286357",
     "exception": false,
     "start_time": "2021-12-06T12:48:11.262718",
     "status": "completed"
    },
    "tags": []
   },
   "source": [
    "## **Applying splitting and standardScaler to the data reduced before searching for best model**"
   ]
  },
  {
   "cell_type": "code",
   "execution_count": 9,
   "id": "b0c5d809",
   "metadata": {
    "execution": {
     "iopub.execute_input": "2021-12-06T12:48:11.337553Z",
     "iopub.status.busy": "2021-12-06T12:48:11.336989Z",
     "iopub.status.idle": "2021-12-06T12:48:11.594342Z",
     "shell.execute_reply": "2021-12-06T12:48:11.595045Z",
     "shell.execute_reply.started": "2021-12-05T12:29:12.838279Z"
    },
    "papermill": {
     "duration": 0.284908,
     "end_time": "2021-12-06T12:48:11.595275",
     "exception": false,
     "start_time": "2021-12-06T12:48:11.310367",
     "status": "completed"
    },
    "tags": []
   },
   "outputs": [
    {
     "name": "stdout",
     "output_type": "stream",
     "text": [
      "Time for Spliting and Normalize: 0.25\n"
     ]
    }
   ],
   "source": [
    "time_init = time.time()\n",
    "# Data split (80% of train set)\n",
    "X1_train, X1_test, y1_train, y1_test = train_test_split(X1, y1, train_size=0.8, stratify=y1, random_state=4)\n",
    "# Normalization of the imput data\n",
    "std_scaler = StandardScaler()\n",
    "std_scaler.fit(X1_train)\n",
    "X1_train = std_scaler.transform(X1_train)\n",
    "X1_test = std_scaler.transform(X1_test)\n",
    "print (f'Time for Spliting and Normalize: {time.time() - time_init:.2f}')"
   ]
  },
  {
   "cell_type": "markdown",
   "id": "f53221aa",
   "metadata": {
    "papermill": {
     "duration": 0.023626,
     "end_time": "2021-12-06T12:48:11.644188",
     "exception": false,
     "start_time": "2021-12-06T12:48:11.620562",
     "status": "completed"
    },
    "tags": []
   },
   "source": [
    " ## **Best model research: tests with SMOTE, RUS for balancing our problem**"
   ]
  },
  {
   "cell_type": "markdown",
   "id": "c17ce0ea",
   "metadata": {
    "papermill": {
     "duration": 0.023497,
     "end_time": "2021-12-06T12:48:11.691559",
     "exception": false,
     "start_time": "2021-12-06T12:48:11.668062",
     "status": "completed"
    },
    "tags": []
   },
   "source": [
    "### **Train dummy classifier for having a baseline on our test data**"
   ]
  },
  {
   "cell_type": "code",
   "execution_count": 10,
   "id": "9e30c82e",
   "metadata": {
    "execution": {
     "iopub.execute_input": "2021-12-06T12:48:11.744005Z",
     "iopub.status.busy": "2021-12-06T12:48:11.743112Z",
     "iopub.status.idle": "2021-12-06T12:48:11.779394Z",
     "shell.execute_reply": "2021-12-06T12:48:11.779864Z",
     "shell.execute_reply.started": "2021-12-05T12:29:24.17616Z"
    },
    "papermill": {
     "duration": 0.064077,
     "end_time": "2021-12-06T12:48:11.780048",
     "exception": false,
     "start_time": "2021-12-06T12:48:11.715971",
     "status": "completed"
    },
    "tags": []
   },
   "outputs": [
    {
     "name": "stderr",
     "output_type": "stream",
     "text": [
      "/opt/conda/lib/python3.7/site-packages/sklearn/metrics/_classification.py:1221: UndefinedMetricWarning: Precision is ill-defined and being set to 0.0 due to no predicted samples. Use `zero_division` parameter to control this behavior.\n",
      "  _warn_prf(average, modifier, msg_start, len(result))\n"
     ]
    },
    {
     "data": {
      "text/html": [
       "<div>\n",
       "<style scoped>\n",
       "    .dataframe tbody tr th:only-of-type {\n",
       "        vertical-align: middle;\n",
       "    }\n",
       "\n",
       "    .dataframe tbody tr th {\n",
       "        vertical-align: top;\n",
       "    }\n",
       "\n",
       "    .dataframe thead th {\n",
       "        text-align: right;\n",
       "    }\n",
       "</style>\n",
       "<table border=\"1\" class=\"dataframe\">\n",
       "  <thead>\n",
       "    <tr style=\"text-align: right;\">\n",
       "      <th></th>\n",
       "      <th>model</th>\n",
       "      <th>Score AUC</th>\n",
       "      <th>F1_score</th>\n",
       "      <th>F2_score</th>\n",
       "      <th>Precision_score</th>\n",
       "      <th>Recall_score</th>\n",
       "      <th>Train Time(s)</th>\n",
       "      <th>Predict Time(s)</th>\n",
       "      <th>Comment</th>\n",
       "    </tr>\n",
       "  </thead>\n",
       "  <tbody>\n",
       "    <tr>\n",
       "      <th>0</th>\n",
       "      <td>Dummy_stratified</td>\n",
       "      <td>0.5</td>\n",
       "      <td>0.0</td>\n",
       "      <td>0.0</td>\n",
       "      <td>0.0</td>\n",
       "      <td>0.0</td>\n",
       "      <td>0.000789</td>\n",
       "      <td>0.00047</td>\n",
       "      <td>test data score</td>\n",
       "    </tr>\n",
       "  </tbody>\n",
       "</table>\n",
       "</div>"
      ],
      "text/plain": [
       "              model  Score AUC  F1_score  F2_score  Precision_score  \\\n",
       "0  Dummy_stratified        0.5       0.0       0.0              0.0   \n",
       "\n",
       "   Recall_score  Train Time(s)  Predict Time(s)          Comment  \n",
       "0           0.0       0.000789          0.00047  test data score  "
      ]
     },
     "execution_count": 10,
     "metadata": {},
     "output_type": "execute_result"
    }
   ],
   "source": [
    "dummy_const_mod = DummyClassifier(strategy='most_frequent', random_state=4)\n",
    "time_init = time.time()\n",
    "dummy_const_mod.fit(X1_train, y1_train)\n",
    "time_1 = time.time()\n",
    "y_pred_dumm_const_1 = dummy_const_mod.predict(X1_test)\n",
    "time_2 = time.time()\n",
    "y_pred_pro_dumm_const_1 = dummy_const_mod.predict_proba(X1_test)[:,1]\n",
    "# create df for global model results\n",
    "summary_result = list()\n",
    "summary_result.append({'model':'Dummy_stratified', 'Score AUC':roc_auc_score(y1_test, y_pred_pro_dumm_const_1), \n",
    "                       'F1_score': f1_score(y1_test, y_pred_dumm_const_1), 'F2_score': fbeta_score(y1_test, y_pred_dumm_const_1, beta=2), \n",
    "                       'Precision_score': precision_score(y1_test,y_pred_dumm_const_1), 'Recall_score': recall_score(y1_test, y_pred_dumm_const_1),\n",
    "                       'Train Time(s)':time_1 - time_init, 'Predict Time(s)': time_2 - time_1,'Comment': 'test data score'})\n",
    "df_summary_result1 = pd.DataFrame(summary_result)\n",
    "df_summary_result1"
   ]
  },
  {
   "cell_type": "markdown",
   "id": "daa62551",
   "metadata": {
    "papermill": {
     "duration": 0.025547,
     "end_time": "2021-12-06T12:48:11.830600",
     "exception": false,
     "start_time": "2021-12-06T12:48:11.805053",
     "status": "completed"
    },
    "tags": []
   },
   "source": [
    "### **Model selection with RandomSearchCV and reduced data**"
   ]
  },
  {
   "cell_type": "markdown",
   "id": "b12c1306",
   "metadata": {
    "papermill": {
     "duration": 0.024501,
     "end_time": "2021-12-06T12:48:11.879569",
     "exception": false,
     "start_time": "2021-12-06T12:48:11.855068",
     "status": "completed"
    },
    "tags": []
   },
   "source": [
    "#### RandomSearchCV with Logistic Regression"
   ]
  },
  {
   "cell_type": "code",
   "execution_count": 11,
   "id": "26555a01",
   "metadata": {
    "execution": {
     "iopub.execute_input": "2021-12-06T12:48:11.932569Z",
     "iopub.status.busy": "2021-12-06T12:48:11.931621Z",
     "iopub.status.idle": "2021-12-06T13:25:34.205348Z",
     "shell.execute_reply": "2021-12-06T13:25:34.204202Z",
     "shell.execute_reply.started": "2021-12-05T12:29:29.209716Z"
    },
    "papermill": {
     "duration": 2242.301542,
     "end_time": "2021-12-06T13:25:34.205858",
     "exception": false,
     "start_time": "2021-12-06T12:48:11.904316",
     "status": "completed"
    },
    "tags": []
   },
   "outputs": [
    {
     "name": "stdout",
     "output_type": "stream",
     "text": [
      "RandomSearchCV execution time(s): 2242.1634607315063\n"
     ]
    },
    {
     "data": {
      "text/html": [
       "<div>\n",
       "<style scoped>\n",
       "    .dataframe tbody tr th:only-of-type {\n",
       "        vertical-align: middle;\n",
       "    }\n",
       "\n",
       "    .dataframe tbody tr th {\n",
       "        vertical-align: top;\n",
       "    }\n",
       "\n",
       "    .dataframe thead th {\n",
       "        text-align: right;\n",
       "    }\n",
       "</style>\n",
       "<table border=\"1\" class=\"dataframe\">\n",
       "  <thead>\n",
       "    <tr style=\"text-align: right;\">\n",
       "      <th></th>\n",
       "      <th>model</th>\n",
       "      <th>best_score AUC</th>\n",
       "      <th>best parameters</th>\n",
       "      <th>Best model</th>\n",
       "      <th>Refit Time(s)</th>\n",
       "      <th>Comment</th>\n",
       "    </tr>\n",
       "  </thead>\n",
       "  <tbody>\n",
       "    <tr>\n",
       "      <th>0</th>\n",
       "      <td>Logistic_Regression</td>\n",
       "      <td>0.684611</td>\n",
       "      <td>{'classifier__C': 15.922827933410922}</td>\n",
       "      <td>(SMOTE(random_state=4), LogisticRegression(C=1...</td>\n",
       "      <td>42.011471</td>\n",
       "      <td>SMOTE(random_state=4) train data</td>\n",
       "    </tr>\n",
       "    <tr>\n",
       "      <th>1</th>\n",
       "      <td>Logistic_Regression</td>\n",
       "      <td>0.651579</td>\n",
       "      <td>{'classifier__C': 15.922827933410922}</td>\n",
       "      <td>(RandomUnderSampler(random_state=4), LogisticR...</td>\n",
       "      <td>1.432511</td>\n",
       "      <td>RandomUnderSampler(random_state=4) train data</td>\n",
       "    </tr>\n",
       "  </tbody>\n",
       "</table>\n",
       "</div>"
      ],
      "text/plain": [
       "                 model  best_score AUC                        best parameters  \\\n",
       "0  Logistic_Regression        0.684611  {'classifier__C': 15.922827933410922}   \n",
       "1  Logistic_Regression        0.651579  {'classifier__C': 15.922827933410922}   \n",
       "\n",
       "                                          Best model  Refit Time(s)  \\\n",
       "0  (SMOTE(random_state=4), LogisticRegression(C=1...      42.011471   \n",
       "1  (RandomUnderSampler(random_state=4), LogisticR...       1.432511   \n",
       "\n",
       "                                         Comment  \n",
       "0               SMOTE(random_state=4) train data  \n",
       "1  RandomUnderSampler(random_state=4) train data  "
      ]
     },
     "execution_count": 11,
     "metadata": {},
     "output_type": "execute_result"
    }
   ],
   "source": [
    "# Defining the samplers\n",
    "smote = SMOTE(random_state=4)\n",
    "rus = RandomUnderSampler(random_state=4)\n",
    "\n",
    "# create the imblearn pipeline and grid parameters\n",
    "# be carefull be sure to use pipeline from imblearn to use SMOTE sampler, it will not evaluate result on y_test create with it\n",
    "time_init = time.time()\n",
    "scores_CV5_1 = list()\n",
    "for sampler in [smote, rus]:\n",
    "    pipe = Pipeline([('Sampling', sampler), ('classifier', linear_model.LogisticRegression(random_state=4, max_iter=10000))])\n",
    "    param_grid1 = {'classifier__C':np.logspace(1,3,100)}\n",
    "    # perfomring rand search CV\n",
    "    gride_mod = RandomizedSearchCV(pipe, param_distributions = param_grid1, cv = 5, scoring='roc_auc', n_iter=10, n_jobs=-1, random_state=4)\n",
    "    gride_mod.fit(X1_train, y1_train)\n",
    "    scores_CV5_1.append({'model':'Logistic_Regression', 'best_score AUC':gride_mod.best_score_, 'best parameters':gride_mod.best_params_,\n",
    "                       'Best model':gride_mod.best_estimator_,'Refit Time(s)':gride_mod.refit_time_, 'Comment':f'{sampler} train data'})\n",
    "\n",
    "# create df results\n",
    "print(f'RandomSearchCV execution time(s): {time.time() - time_init}')\n",
    "df_scores_CV5_1 = pd.DataFrame(scores_CV5_1)\n",
    "df_scores_CV5_1"
   ]
  },
  {
   "cell_type": "markdown",
   "id": "13aca050",
   "metadata": {
    "papermill": {
     "duration": 0.025208,
     "end_time": "2021-12-06T13:25:34.263088",
     "exception": false,
     "start_time": "2021-12-06T13:25:34.237880",
     "status": "completed"
    },
    "tags": []
   },
   "source": [
    "#### RandomSearchCV with KNeighborsClassifier"
   ]
  },
  {
   "cell_type": "code",
   "execution_count": 12,
   "id": "eaae4882",
   "metadata": {
    "execution": {
     "iopub.execute_input": "2021-12-06T13:25:34.324407Z",
     "iopub.status.busy": "2021-12-06T13:25:34.323679Z",
     "iopub.status.idle": "2021-12-06T13:53:04.306831Z",
     "shell.execute_reply": "2021-12-06T13:53:04.306271Z",
     "shell.execute_reply.started": "2021-12-05T13:24:57.44799Z"
    },
    "papermill": {
     "duration": 1650.018612,
     "end_time": "2021-12-06T13:53:04.307011",
     "exception": false,
     "start_time": "2021-12-06T13:25:34.288399",
     "status": "completed"
    },
    "tags": []
   },
   "outputs": [
    {
     "name": "stdout",
     "output_type": "stream",
     "text": [
      "RandomSearchCV execution time(s): 1649.9333307743073\n"
     ]
    },
    {
     "data": {
      "text/html": [
       "<div>\n",
       "<style scoped>\n",
       "    .dataframe tbody tr th:only-of-type {\n",
       "        vertical-align: middle;\n",
       "    }\n",
       "\n",
       "    .dataframe tbody tr th {\n",
       "        vertical-align: top;\n",
       "    }\n",
       "\n",
       "    .dataframe thead th {\n",
       "        text-align: right;\n",
       "    }\n",
       "</style>\n",
       "<table border=\"1\" class=\"dataframe\">\n",
       "  <thead>\n",
       "    <tr style=\"text-align: right;\">\n",
       "      <th></th>\n",
       "      <th>model</th>\n",
       "      <th>best_score AUC</th>\n",
       "      <th>best parameters</th>\n",
       "      <th>Best model</th>\n",
       "      <th>Refit Time(s)</th>\n",
       "      <th>Comment</th>\n",
       "    </tr>\n",
       "  </thead>\n",
       "  <tbody>\n",
       "    <tr>\n",
       "      <th>0</th>\n",
       "      <td>Logistic_Regression</td>\n",
       "      <td>0.684611</td>\n",
       "      <td>{'classifier__C': 15.922827933410922}</td>\n",
       "      <td>(SMOTE(random_state=4), LogisticRegression(C=1...</td>\n",
       "      <td>42.011471</td>\n",
       "      <td>SMOTE(random_state=4) train data</td>\n",
       "    </tr>\n",
       "    <tr>\n",
       "      <th>1</th>\n",
       "      <td>Logistic_Regression</td>\n",
       "      <td>0.651579</td>\n",
       "      <td>{'classifier__C': 15.922827933410922}</td>\n",
       "      <td>(RandomUnderSampler(random_state=4), LogisticR...</td>\n",
       "      <td>1.432511</td>\n",
       "      <td>RandomUnderSampler(random_state=4) train data</td>\n",
       "    </tr>\n",
       "    <tr>\n",
       "      <th>2</th>\n",
       "      <td>Kneighbors classifier</td>\n",
       "      <td>0.591673</td>\n",
       "      <td>{'classifier__n_neighbors': 291}</td>\n",
       "      <td>(SMOTE(random_state=4), KNeighborsClassifier(n...</td>\n",
       "      <td>7.261066</td>\n",
       "      <td>SMOTE(random_state=4) train data</td>\n",
       "    </tr>\n",
       "    <tr>\n",
       "      <th>3</th>\n",
       "      <td>Kneighbors classifier</td>\n",
       "      <td>0.671466</td>\n",
       "      <td>{'classifier__n_neighbors': 293}</td>\n",
       "      <td>(RandomUnderSampler(random_state=4), KNeighbor...</td>\n",
       "      <td>0.212038</td>\n",
       "      <td>RandomUnderSampler(random_state=4) train data</td>\n",
       "    </tr>\n",
       "  </tbody>\n",
       "</table>\n",
       "</div>"
      ],
      "text/plain": [
       "                   model  best_score AUC  \\\n",
       "0    Logistic_Regression        0.684611   \n",
       "1    Logistic_Regression        0.651579   \n",
       "2  Kneighbors classifier        0.591673   \n",
       "3  Kneighbors classifier        0.671466   \n",
       "\n",
       "                         best parameters  \\\n",
       "0  {'classifier__C': 15.922827933410922}   \n",
       "1  {'classifier__C': 15.922827933410922}   \n",
       "2       {'classifier__n_neighbors': 291}   \n",
       "3       {'classifier__n_neighbors': 293}   \n",
       "\n",
       "                                          Best model  Refit Time(s)  \\\n",
       "0  (SMOTE(random_state=4), LogisticRegression(C=1...      42.011471   \n",
       "1  (RandomUnderSampler(random_state=4), LogisticR...       1.432511   \n",
       "2  (SMOTE(random_state=4), KNeighborsClassifier(n...       7.261066   \n",
       "3  (RandomUnderSampler(random_state=4), KNeighbor...       0.212038   \n",
       "\n",
       "                                         Comment  \n",
       "0               SMOTE(random_state=4) train data  \n",
       "1  RandomUnderSampler(random_state=4) train data  \n",
       "2               SMOTE(random_state=4) train data  \n",
       "3  RandomUnderSampler(random_state=4) train data  "
      ]
     },
     "execution_count": 12,
     "metadata": {},
     "output_type": "execute_result"
    }
   ],
   "source": [
    "# Defining the samplers\n",
    "smote = SMOTE(random_state=4)\n",
    "rus = RandomUnderSampler(random_state=4)\n",
    "\n",
    "# create the imblearn pipeline and grid parameters\n",
    "# be carefull be sure to use pipeline from imblearn to use SMOTE sampler, it will not evaluate result on y_test create with it\n",
    "time_init = time.time()\n",
    "scores_CV5_1 = list()\n",
    "for sampler in [smote, rus]:\n",
    "    pipe = Pipeline([('Sampling', sampler), ('classifier', neighbors.KNeighborsClassifier())])\n",
    "    param_grid1 = {'classifier__n_neighbors':range(2,300,1)}\n",
    "    # perfomring rand search CV\n",
    "    gride_mod = RandomizedSearchCV(pipe, param_distributions = param_grid1, cv = 5, scoring='roc_auc', n_iter=10, n_jobs=-1, random_state=4)\n",
    "    gride_mod.fit(X1_train, y1_train)\n",
    "    scores_CV5_1.append({'model':'Kneighbors classifier', 'best_score AUC':gride_mod.best_score_, 'best parameters':gride_mod.best_params_,\n",
    "                       'Best model':gride_mod.best_estimator_,'Refit Time(s)':gride_mod.refit_time_, 'Comment':f'{sampler} train data'})\n",
    "   \n",
    "# create df results\n",
    "print(f'RandomSearchCV execution time(s): {time.time() - time_init}')\n",
    "df_scores_CV5_1 = df_scores_CV5_1.append(scores_CV5_1, ignore_index=True)\n",
    "df_scores_CV5_1"
   ]
  },
  {
   "cell_type": "markdown",
   "id": "8cd0562e",
   "metadata": {
    "papermill": {
     "duration": 0.026133,
     "end_time": "2021-12-06T13:53:04.359910",
     "exception": false,
     "start_time": "2021-12-06T13:53:04.333777",
     "status": "completed"
    },
    "tags": []
   },
   "source": [
    "#### RandomSearchCV with RandomForest Classifier"
   ]
  },
  {
   "cell_type": "code",
   "execution_count": 13,
   "id": "1a319ac5",
   "metadata": {
    "execution": {
     "iopub.execute_input": "2021-12-06T13:53:04.420470Z",
     "iopub.status.busy": "2021-12-06T13:53:04.415068Z",
     "iopub.status.idle": "2021-12-06T13:55:09.081998Z",
     "shell.execute_reply": "2021-12-06T13:55:09.081461Z",
     "shell.execute_reply.started": "2021-12-05T13:55:56.059286Z"
    },
    "papermill": {
     "duration": 124.696056,
     "end_time": "2021-12-06T13:55:09.082149",
     "exception": false,
     "start_time": "2021-12-06T13:53:04.386093",
     "status": "completed"
    },
    "tags": []
   },
   "outputs": [
    {
     "name": "stdout",
     "output_type": "stream",
     "text": [
      "RandomSearchCV execution time(s): 124.54781866073608\n"
     ]
    },
    {
     "data": {
      "text/html": [
       "<div>\n",
       "<style scoped>\n",
       "    .dataframe tbody tr th:only-of-type {\n",
       "        vertical-align: middle;\n",
       "    }\n",
       "\n",
       "    .dataframe tbody tr th {\n",
       "        vertical-align: top;\n",
       "    }\n",
       "\n",
       "    .dataframe thead th {\n",
       "        text-align: right;\n",
       "    }\n",
       "</style>\n",
       "<table border=\"1\" class=\"dataframe\">\n",
       "  <thead>\n",
       "    <tr style=\"text-align: right;\">\n",
       "      <th></th>\n",
       "      <th>model</th>\n",
       "      <th>best_score AUC</th>\n",
       "      <th>best parameters</th>\n",
       "      <th>Best model</th>\n",
       "      <th>Refit Time(s)</th>\n",
       "      <th>Comment</th>\n",
       "    </tr>\n",
       "  </thead>\n",
       "  <tbody>\n",
       "    <tr>\n",
       "      <th>0</th>\n",
       "      <td>Logistic_Regression</td>\n",
       "      <td>0.684611</td>\n",
       "      <td>{'classifier__C': 15.922827933410922}</td>\n",
       "      <td>(SMOTE(random_state=4), LogisticRegression(C=1...</td>\n",
       "      <td>42.011471</td>\n",
       "      <td>SMOTE(random_state=4) train data</td>\n",
       "    </tr>\n",
       "    <tr>\n",
       "      <th>1</th>\n",
       "      <td>Logistic_Regression</td>\n",
       "      <td>0.651579</td>\n",
       "      <td>{'classifier__C': 15.922827933410922}</td>\n",
       "      <td>(RandomUnderSampler(random_state=4), LogisticR...</td>\n",
       "      <td>1.432511</td>\n",
       "      <td>RandomUnderSampler(random_state=4) train data</td>\n",
       "    </tr>\n",
       "    <tr>\n",
       "      <th>2</th>\n",
       "      <td>Kneighbors classifier</td>\n",
       "      <td>0.591673</td>\n",
       "      <td>{'classifier__n_neighbors': 291}</td>\n",
       "      <td>(SMOTE(random_state=4), KNeighborsClassifier(n...</td>\n",
       "      <td>7.261066</td>\n",
       "      <td>SMOTE(random_state=4) train data</td>\n",
       "    </tr>\n",
       "    <tr>\n",
       "      <th>3</th>\n",
       "      <td>Kneighbors classifier</td>\n",
       "      <td>0.671466</td>\n",
       "      <td>{'classifier__n_neighbors': 293}</td>\n",
       "      <td>(RandomUnderSampler(random_state=4), KNeighbor...</td>\n",
       "      <td>0.212038</td>\n",
       "      <td>RandomUnderSampler(random_state=4) train data</td>\n",
       "    </tr>\n",
       "    <tr>\n",
       "      <th>4</th>\n",
       "      <td>RandomForest classifier</td>\n",
       "      <td>0.685239</td>\n",
       "      <td>{'classifier__n_estimators': 65, 'classifier__...</td>\n",
       "      <td>(SMOTE(random_state=4), (DecisionTreeClassifie...</td>\n",
       "      <td>14.004450</td>\n",
       "      <td>SMOTE(random_state=4) train data</td>\n",
       "    </tr>\n",
       "    <tr>\n",
       "      <th>5</th>\n",
       "      <td>RandomForest classifier</td>\n",
       "      <td>0.719367</td>\n",
       "      <td>{'classifier__n_estimators': 50, 'classifier__...</td>\n",
       "      <td>(RandomUnderSampler(random_state=4), (Decision...</td>\n",
       "      <td>0.544452</td>\n",
       "      <td>RandomUnderSampler(random_state=4) train data</td>\n",
       "    </tr>\n",
       "  </tbody>\n",
       "</table>\n",
       "</div>"
      ],
      "text/plain": [
       "                     model  best_score AUC  \\\n",
       "0      Logistic_Regression        0.684611   \n",
       "1      Logistic_Regression        0.651579   \n",
       "2    Kneighbors classifier        0.591673   \n",
       "3    Kneighbors classifier        0.671466   \n",
       "4  RandomForest classifier        0.685239   \n",
       "5  RandomForest classifier        0.719367   \n",
       "\n",
       "                                     best parameters  \\\n",
       "0              {'classifier__C': 15.922827933410922}   \n",
       "1              {'classifier__C': 15.922827933410922}   \n",
       "2                   {'classifier__n_neighbors': 291}   \n",
       "3                   {'classifier__n_neighbors': 293}   \n",
       "4  {'classifier__n_estimators': 65, 'classifier__...   \n",
       "5  {'classifier__n_estimators': 50, 'classifier__...   \n",
       "\n",
       "                                          Best model  Refit Time(s)  \\\n",
       "0  (SMOTE(random_state=4), LogisticRegression(C=1...      42.011471   \n",
       "1  (RandomUnderSampler(random_state=4), LogisticR...       1.432511   \n",
       "2  (SMOTE(random_state=4), KNeighborsClassifier(n...       7.261066   \n",
       "3  (RandomUnderSampler(random_state=4), KNeighbor...       0.212038   \n",
       "4  (SMOTE(random_state=4), (DecisionTreeClassifie...      14.004450   \n",
       "5  (RandomUnderSampler(random_state=4), (Decision...       0.544452   \n",
       "\n",
       "                                         Comment  \n",
       "0               SMOTE(random_state=4) train data  \n",
       "1  RandomUnderSampler(random_state=4) train data  \n",
       "2               SMOTE(random_state=4) train data  \n",
       "3  RandomUnderSampler(random_state=4) train data  \n",
       "4               SMOTE(random_state=4) train data  \n",
       "5  RandomUnderSampler(random_state=4) train data  "
      ]
     },
     "execution_count": 13,
     "metadata": {},
     "output_type": "execute_result"
    }
   ],
   "source": [
    "# create the imblearn pipeline and grid parameters\n",
    "# be carefull be sure to use pipeline from imblearn to use SMOTE sampler, it will not evaluate result on y_test create with it\n",
    "time_init = time.time()\n",
    "scores_CV5_1 = list()\n",
    "for sampler in [smote, rus]:\n",
    "    pipe = Pipeline([('Sampling', sampler), ('classifier', RandomForestClassifier(random_state=4))])\n",
    "    param_grid1 = {'classifier__n_estimators':range(5,70,5), 'classifier__max_depth': [5, 7, 10]}\n",
    "    # perfomring rand search CV\n",
    "    gride_mod = RandomizedSearchCV(pipe, param_distributions = param_grid1, cv = 5, scoring='roc_auc', n_iter=10, n_jobs=-1, random_state=4)\n",
    "    gride_mod.fit(X1_train, y1_train)\n",
    "    scores_CV5_1.append({'model':'RandomForest classifier', 'best_score AUC':gride_mod.best_score_, 'best parameters':gride_mod.best_params_,\n",
    "                       'Best model':gride_mod.best_estimator_,'Refit Time(s)':gride_mod.refit_time_, 'Comment':f'{sampler} train data'})\n",
    "\n",
    "# create df results\n",
    "print(f'RandomSearchCV execution time(s): {time.time() - time_init}')\n",
    "df_scores_CV5_1 = df_scores_CV5_1.append(scores_CV5_1, ignore_index=True)\n",
    "df_scores_CV5_1"
   ]
  },
  {
   "cell_type": "markdown",
   "id": "c0f4ca29",
   "metadata": {
    "papermill": {
     "duration": 0.02673,
     "end_time": "2021-12-06T13:55:09.137676",
     "exception": false,
     "start_time": "2021-12-06T13:55:09.110946",
     "status": "completed"
    },
    "tags": []
   },
   "source": [
    "#### RandomSearchCV with XGBoost classifier"
   ]
  },
  {
   "cell_type": "code",
   "execution_count": 14,
   "id": "0a370233",
   "metadata": {
    "execution": {
     "iopub.execute_input": "2021-12-06T13:55:09.201123Z",
     "iopub.status.busy": "2021-12-06T13:55:09.200416Z",
     "iopub.status.idle": "2021-12-06T14:35:48.706747Z",
     "shell.execute_reply": "2021-12-06T14:35:48.706215Z",
     "shell.execute_reply.started": "2021-12-05T13:58:15.889789Z"
    },
    "papermill": {
     "duration": 2439.54183,
     "end_time": "2021-12-06T14:35:48.706970",
     "exception": false,
     "start_time": "2021-12-06T13:55:09.165140",
     "status": "completed"
    },
    "tags": []
   },
   "outputs": [
    {
     "name": "stdout",
     "output_type": "stream",
     "text": [
      "RandomSearchCV execution time(s): 2439.3739907741547\n"
     ]
    },
    {
     "data": {
      "text/html": [
       "<div>\n",
       "<style scoped>\n",
       "    .dataframe tbody tr th:only-of-type {\n",
       "        vertical-align: middle;\n",
       "    }\n",
       "\n",
       "    .dataframe tbody tr th {\n",
       "        vertical-align: top;\n",
       "    }\n",
       "\n",
       "    .dataframe thead th {\n",
       "        text-align: right;\n",
       "    }\n",
       "</style>\n",
       "<table border=\"1\" class=\"dataframe\">\n",
       "  <thead>\n",
       "    <tr style=\"text-align: right;\">\n",
       "      <th></th>\n",
       "      <th>model</th>\n",
       "      <th>best_score AUC</th>\n",
       "      <th>best parameters</th>\n",
       "      <th>Best model</th>\n",
       "      <th>Refit Time(s)</th>\n",
       "      <th>Comment</th>\n",
       "    </tr>\n",
       "  </thead>\n",
       "  <tbody>\n",
       "    <tr>\n",
       "      <th>0</th>\n",
       "      <td>Logistic_Regression</td>\n",
       "      <td>0.684611</td>\n",
       "      <td>{'classifier__C': 15.922827933410922}</td>\n",
       "      <td>(SMOTE(random_state=4), LogisticRegression(C=1...</td>\n",
       "      <td>42.011471</td>\n",
       "      <td>SMOTE(random_state=4) train data</td>\n",
       "    </tr>\n",
       "    <tr>\n",
       "      <th>1</th>\n",
       "      <td>Logistic_Regression</td>\n",
       "      <td>0.651579</td>\n",
       "      <td>{'classifier__C': 15.922827933410922}</td>\n",
       "      <td>(RandomUnderSampler(random_state=4), LogisticR...</td>\n",
       "      <td>1.432511</td>\n",
       "      <td>RandomUnderSampler(random_state=4) train data</td>\n",
       "    </tr>\n",
       "    <tr>\n",
       "      <th>2</th>\n",
       "      <td>Kneighbors classifier</td>\n",
       "      <td>0.591673</td>\n",
       "      <td>{'classifier__n_neighbors': 291}</td>\n",
       "      <td>(SMOTE(random_state=4), KNeighborsClassifier(n...</td>\n",
       "      <td>7.261066</td>\n",
       "      <td>SMOTE(random_state=4) train data</td>\n",
       "    </tr>\n",
       "    <tr>\n",
       "      <th>3</th>\n",
       "      <td>Kneighbors classifier</td>\n",
       "      <td>0.671466</td>\n",
       "      <td>{'classifier__n_neighbors': 293}</td>\n",
       "      <td>(RandomUnderSampler(random_state=4), KNeighbor...</td>\n",
       "      <td>0.212038</td>\n",
       "      <td>RandomUnderSampler(random_state=4) train data</td>\n",
       "    </tr>\n",
       "    <tr>\n",
       "      <th>4</th>\n",
       "      <td>RandomForest classifier</td>\n",
       "      <td>0.685239</td>\n",
       "      <td>{'classifier__n_estimators': 65, 'classifier__...</td>\n",
       "      <td>(SMOTE(random_state=4), (DecisionTreeClassifie...</td>\n",
       "      <td>14.004450</td>\n",
       "      <td>SMOTE(random_state=4) train data</td>\n",
       "    </tr>\n",
       "    <tr>\n",
       "      <th>5</th>\n",
       "      <td>RandomForest classifier</td>\n",
       "      <td>0.719367</td>\n",
       "      <td>{'classifier__n_estimators': 50, 'classifier__...</td>\n",
       "      <td>(RandomUnderSampler(random_state=4), (Decision...</td>\n",
       "      <td>0.544452</td>\n",
       "      <td>RandomUnderSampler(random_state=4) train data</td>\n",
       "    </tr>\n",
       "    <tr>\n",
       "      <th>6</th>\n",
       "      <td>XGBoost classifier</td>\n",
       "      <td>0.731914</td>\n",
       "      <td>{'classifier__n_estimators': 60, 'classifier__...</td>\n",
       "      <td>(SMOTE(random_state=4), XGBClassifier(base_sco...</td>\n",
       "      <td>47.309173</td>\n",
       "      <td>SMOTE(random_state=4) train data</td>\n",
       "    </tr>\n",
       "    <tr>\n",
       "      <th>7</th>\n",
       "      <td>XGBoost classifier</td>\n",
       "      <td>0.729597</td>\n",
       "      <td>{'classifier__n_estimators': 25, 'classifier__...</td>\n",
       "      <td>(RandomUnderSampler(random_state=4), XGBClassi...</td>\n",
       "      <td>1.184915</td>\n",
       "      <td>RandomUnderSampler(random_state=4) train data</td>\n",
       "    </tr>\n",
       "  </tbody>\n",
       "</table>\n",
       "</div>"
      ],
      "text/plain": [
       "                     model  best_score AUC  \\\n",
       "0      Logistic_Regression        0.684611   \n",
       "1      Logistic_Regression        0.651579   \n",
       "2    Kneighbors classifier        0.591673   \n",
       "3    Kneighbors classifier        0.671466   \n",
       "4  RandomForest classifier        0.685239   \n",
       "5  RandomForest classifier        0.719367   \n",
       "6       XGBoost classifier        0.731914   \n",
       "7       XGBoost classifier        0.729597   \n",
       "\n",
       "                                     best parameters  \\\n",
       "0              {'classifier__C': 15.922827933410922}   \n",
       "1              {'classifier__C': 15.922827933410922}   \n",
       "2                   {'classifier__n_neighbors': 291}   \n",
       "3                   {'classifier__n_neighbors': 293}   \n",
       "4  {'classifier__n_estimators': 65, 'classifier__...   \n",
       "5  {'classifier__n_estimators': 50, 'classifier__...   \n",
       "6  {'classifier__n_estimators': 60, 'classifier__...   \n",
       "7  {'classifier__n_estimators': 25, 'classifier__...   \n",
       "\n",
       "                                          Best model  Refit Time(s)  \\\n",
       "0  (SMOTE(random_state=4), LogisticRegression(C=1...      42.011471   \n",
       "1  (RandomUnderSampler(random_state=4), LogisticR...       1.432511   \n",
       "2  (SMOTE(random_state=4), KNeighborsClassifier(n...       7.261066   \n",
       "3  (RandomUnderSampler(random_state=4), KNeighbor...       0.212038   \n",
       "4  (SMOTE(random_state=4), (DecisionTreeClassifie...      14.004450   \n",
       "5  (RandomUnderSampler(random_state=4), (Decision...       0.544452   \n",
       "6  (SMOTE(random_state=4), XGBClassifier(base_sco...      47.309173   \n",
       "7  (RandomUnderSampler(random_state=4), XGBClassi...       1.184915   \n",
       "\n",
       "                                         Comment  \n",
       "0               SMOTE(random_state=4) train data  \n",
       "1  RandomUnderSampler(random_state=4) train data  \n",
       "2               SMOTE(random_state=4) train data  \n",
       "3  RandomUnderSampler(random_state=4) train data  \n",
       "4               SMOTE(random_state=4) train data  \n",
       "5  RandomUnderSampler(random_state=4) train data  \n",
       "6               SMOTE(random_state=4) train data  \n",
       "7  RandomUnderSampler(random_state=4) train data  "
      ]
     },
     "execution_count": 14,
     "metadata": {},
     "output_type": "execute_result"
    }
   ],
   "source": [
    "# create the imblearn pipeline and grid parameters\n",
    "# be carefull be sure to use pipeline from imblearn to use SMOTE sampler, it will not evaluate result on y_test create with it\n",
    "time_init = time.time()\n",
    "scores_CV5_1 = list()\n",
    "for sampler in [smote, rus]:\n",
    "    pipe = Pipeline([('Sampling', sampler), ('classifier', XGBClassifier(use_label_encoder=False, random_state=4, eval_metric='mlogloss'))])\n",
    "    param_grid1 = {'classifier__n_estimators':range(5,70,5), 'classifier__max_depth': [5, 7, 10], 'classifier__learning_rate':[0.1, 0.5]}\n",
    "    # perfomring rand search CV\n",
    "    gride_mod = RandomizedSearchCV(pipe, param_distributions = param_grid1, cv = 5, scoring='roc_auc', n_iter=10, n_jobs=-1, random_state=4)\n",
    "    gride_mod.fit(X1_train, y1_train)\n",
    "    scores_CV5_1.append({'model':'XGBoost classifier', 'best_score AUC':gride_mod.best_score_, 'best parameters':gride_mod.best_params_,\n",
    "                       'Best model':gride_mod.best_estimator_,'Refit Time(s)':gride_mod.refit_time_, 'Comment':f'{sampler} train data'})\n",
    "\n",
    "# create df results\n",
    "print(f'RandomSearchCV execution time(s): {time.time() - time_init}')\n",
    "df_scores_CV5_1 = df_scores_CV5_1.append(scores_CV5_1, ignore_index=True)\n",
    "df_scores_CV5_1"
   ]
  },
  {
   "cell_type": "markdown",
   "id": "d3a972c7",
   "metadata": {
    "papermill": {
     "duration": 0.028208,
     "end_time": "2021-12-06T14:35:48.762923",
     "exception": false,
     "start_time": "2021-12-06T14:35:48.734715",
     "status": "completed"
    },
    "tags": []
   },
   "source": [
    "#### RandomSearchCV with LGBM classifier"
   ]
  },
  {
   "cell_type": "code",
   "execution_count": 15,
   "id": "a8ef62d4",
   "metadata": {
    "execution": {
     "iopub.execute_input": "2021-12-06T14:35:48.827022Z",
     "iopub.status.busy": "2021-12-06T14:35:48.826035Z",
     "iopub.status.idle": "2021-12-06T14:38:56.022115Z",
     "shell.execute_reply": "2021-12-06T14:38:56.021488Z",
     "shell.execute_reply.started": "2021-12-05T14:39:10.863577Z"
    },
    "papermill": {
     "duration": 187.231858,
     "end_time": "2021-12-06T14:38:56.022303",
     "exception": false,
     "start_time": "2021-12-06T14:35:48.790445",
     "status": "completed"
    },
    "tags": []
   },
   "outputs": [
    {
     "name": "stderr",
     "output_type": "stream",
     "text": [
      "/opt/conda/lib/python3.7/site-packages/joblib/externals/loky/process_executor.py:705: UserWarning: A worker stopped while some jobs were given to the executor. This can be caused by a too short worker timeout or by a memory leak.\n",
      "  \"timeout or by a memory leak.\", UserWarning\n"
     ]
    },
    {
     "name": "stdout",
     "output_type": "stream",
     "text": [
      "RandomSearchCV execution time(s): 187.05888509750366\n"
     ]
    },
    {
     "data": {
      "text/html": [
       "<div>\n",
       "<style scoped>\n",
       "    .dataframe tbody tr th:only-of-type {\n",
       "        vertical-align: middle;\n",
       "    }\n",
       "\n",
       "    .dataframe tbody tr th {\n",
       "        vertical-align: top;\n",
       "    }\n",
       "\n",
       "    .dataframe thead th {\n",
       "        text-align: right;\n",
       "    }\n",
       "</style>\n",
       "<table border=\"1\" class=\"dataframe\">\n",
       "  <thead>\n",
       "    <tr style=\"text-align: right;\">\n",
       "      <th></th>\n",
       "      <th>model</th>\n",
       "      <th>best_score AUC</th>\n",
       "      <th>best parameters</th>\n",
       "      <th>Best model</th>\n",
       "      <th>Refit Time(s)</th>\n",
       "      <th>Comment</th>\n",
       "    </tr>\n",
       "  </thead>\n",
       "  <tbody>\n",
       "    <tr>\n",
       "      <th>0</th>\n",
       "      <td>Logistic_Regression</td>\n",
       "      <td>0.684611</td>\n",
       "      <td>{'classifier__C': 15.922827933410922}</td>\n",
       "      <td>(SMOTE(random_state=4), LogisticRegression(C=1...</td>\n",
       "      <td>42.011471</td>\n",
       "      <td>SMOTE(random_state=4) train data</td>\n",
       "    </tr>\n",
       "    <tr>\n",
       "      <th>1</th>\n",
       "      <td>Logistic_Regression</td>\n",
       "      <td>0.651579</td>\n",
       "      <td>{'classifier__C': 15.922827933410922}</td>\n",
       "      <td>(RandomUnderSampler(random_state=4), LogisticR...</td>\n",
       "      <td>1.432511</td>\n",
       "      <td>RandomUnderSampler(random_state=4) train data</td>\n",
       "    </tr>\n",
       "    <tr>\n",
       "      <th>2</th>\n",
       "      <td>Kneighbors classifier</td>\n",
       "      <td>0.591673</td>\n",
       "      <td>{'classifier__n_neighbors': 291}</td>\n",
       "      <td>(SMOTE(random_state=4), KNeighborsClassifier(n...</td>\n",
       "      <td>7.261066</td>\n",
       "      <td>SMOTE(random_state=4) train data</td>\n",
       "    </tr>\n",
       "    <tr>\n",
       "      <th>3</th>\n",
       "      <td>Kneighbors classifier</td>\n",
       "      <td>0.671466</td>\n",
       "      <td>{'classifier__n_neighbors': 293}</td>\n",
       "      <td>(RandomUnderSampler(random_state=4), KNeighbor...</td>\n",
       "      <td>0.212038</td>\n",
       "      <td>RandomUnderSampler(random_state=4) train data</td>\n",
       "    </tr>\n",
       "    <tr>\n",
       "      <th>4</th>\n",
       "      <td>RandomForest classifier</td>\n",
       "      <td>0.685239</td>\n",
       "      <td>{'classifier__n_estimators': 65, 'classifier__...</td>\n",
       "      <td>(SMOTE(random_state=4), (DecisionTreeClassifie...</td>\n",
       "      <td>14.004450</td>\n",
       "      <td>SMOTE(random_state=4) train data</td>\n",
       "    </tr>\n",
       "    <tr>\n",
       "      <th>5</th>\n",
       "      <td>RandomForest classifier</td>\n",
       "      <td>0.719367</td>\n",
       "      <td>{'classifier__n_estimators': 50, 'classifier__...</td>\n",
       "      <td>(RandomUnderSampler(random_state=4), (Decision...</td>\n",
       "      <td>0.544452</td>\n",
       "      <td>RandomUnderSampler(random_state=4) train data</td>\n",
       "    </tr>\n",
       "    <tr>\n",
       "      <th>6</th>\n",
       "      <td>XGBoost classifier</td>\n",
       "      <td>0.731914</td>\n",
       "      <td>{'classifier__n_estimators': 60, 'classifier__...</td>\n",
       "      <td>(SMOTE(random_state=4), XGBClassifier(base_sco...</td>\n",
       "      <td>47.309173</td>\n",
       "      <td>SMOTE(random_state=4) train data</td>\n",
       "    </tr>\n",
       "    <tr>\n",
       "      <th>7</th>\n",
       "      <td>XGBoost classifier</td>\n",
       "      <td>0.729597</td>\n",
       "      <td>{'classifier__n_estimators': 25, 'classifier__...</td>\n",
       "      <td>(RandomUnderSampler(random_state=4), XGBClassi...</td>\n",
       "      <td>1.184915</td>\n",
       "      <td>RandomUnderSampler(random_state=4) train data</td>\n",
       "    </tr>\n",
       "    <tr>\n",
       "      <th>8</th>\n",
       "      <td>LGBM classifier</td>\n",
       "      <td>0.732245</td>\n",
       "      <td>{'classifier__n_estimators': 60, 'classifier__...</td>\n",
       "      <td>(SMOTE(random_state=4), LGBMClassifier(max_dep...</td>\n",
       "      <td>8.545971</td>\n",
       "      <td>SMOTE(random_state=4) train data</td>\n",
       "    </tr>\n",
       "    <tr>\n",
       "      <th>9</th>\n",
       "      <td>LGBM classifier</td>\n",
       "      <td>0.729382</td>\n",
       "      <td>{'classifier__n_estimators': 60, 'classifier__...</td>\n",
       "      <td>(RandomUnderSampler(random_state=4), LGBMClass...</td>\n",
       "      <td>1.108452</td>\n",
       "      <td>RandomUnderSampler(random_state=4) train data</td>\n",
       "    </tr>\n",
       "  </tbody>\n",
       "</table>\n",
       "</div>"
      ],
      "text/plain": [
       "                     model  best_score AUC  \\\n",
       "0      Logistic_Regression        0.684611   \n",
       "1      Logistic_Regression        0.651579   \n",
       "2    Kneighbors classifier        0.591673   \n",
       "3    Kneighbors classifier        0.671466   \n",
       "4  RandomForest classifier        0.685239   \n",
       "5  RandomForest classifier        0.719367   \n",
       "6       XGBoost classifier        0.731914   \n",
       "7       XGBoost classifier        0.729597   \n",
       "8          LGBM classifier        0.732245   \n",
       "9          LGBM classifier        0.729382   \n",
       "\n",
       "                                     best parameters  \\\n",
       "0              {'classifier__C': 15.922827933410922}   \n",
       "1              {'classifier__C': 15.922827933410922}   \n",
       "2                   {'classifier__n_neighbors': 291}   \n",
       "3                   {'classifier__n_neighbors': 293}   \n",
       "4  {'classifier__n_estimators': 65, 'classifier__...   \n",
       "5  {'classifier__n_estimators': 50, 'classifier__...   \n",
       "6  {'classifier__n_estimators': 60, 'classifier__...   \n",
       "7  {'classifier__n_estimators': 25, 'classifier__...   \n",
       "8  {'classifier__n_estimators': 60, 'classifier__...   \n",
       "9  {'classifier__n_estimators': 60, 'classifier__...   \n",
       "\n",
       "                                          Best model  Refit Time(s)  \\\n",
       "0  (SMOTE(random_state=4), LogisticRegression(C=1...      42.011471   \n",
       "1  (RandomUnderSampler(random_state=4), LogisticR...       1.432511   \n",
       "2  (SMOTE(random_state=4), KNeighborsClassifier(n...       7.261066   \n",
       "3  (RandomUnderSampler(random_state=4), KNeighbor...       0.212038   \n",
       "4  (SMOTE(random_state=4), (DecisionTreeClassifie...      14.004450   \n",
       "5  (RandomUnderSampler(random_state=4), (Decision...       0.544452   \n",
       "6  (SMOTE(random_state=4), XGBClassifier(base_sco...      47.309173   \n",
       "7  (RandomUnderSampler(random_state=4), XGBClassi...       1.184915   \n",
       "8  (SMOTE(random_state=4), LGBMClassifier(max_dep...       8.545971   \n",
       "9  (RandomUnderSampler(random_state=4), LGBMClass...       1.108452   \n",
       "\n",
       "                                         Comment  \n",
       "0               SMOTE(random_state=4) train data  \n",
       "1  RandomUnderSampler(random_state=4) train data  \n",
       "2               SMOTE(random_state=4) train data  \n",
       "3  RandomUnderSampler(random_state=4) train data  \n",
       "4               SMOTE(random_state=4) train data  \n",
       "5  RandomUnderSampler(random_state=4) train data  \n",
       "6               SMOTE(random_state=4) train data  \n",
       "7  RandomUnderSampler(random_state=4) train data  \n",
       "8               SMOTE(random_state=4) train data  \n",
       "9  RandomUnderSampler(random_state=4) train data  "
      ]
     },
     "execution_count": 15,
     "metadata": {},
     "output_type": "execute_result"
    }
   ],
   "source": [
    "# create the imblearn pipeline and grid parameters\n",
    "# be carefull be sure to use pipeline from imblearn to use SMOTE sampler, it will not evaluate result on y_test create with it\n",
    "time_init = time.time()\n",
    "scores_CV5_1 = list()\n",
    "for sampler in [smote, rus]:\n",
    "    pipe = Pipeline([('Sampling', sampler), ('classifier', LGBMClassifier(random_state=4))])\n",
    "    param_grid1 = {'classifier__n_estimators':range(5,70,5), 'classifier__max_depth': [5, 7, 10], 'classifier__learning_rate':[0.1, 0.5]}\n",
    "    # perfomring rand search CV\n",
    "    gride_mod = RandomizedSearchCV(pipe, param_distributions = param_grid1, cv = 5, scoring='roc_auc', n_iter=10, n_jobs=-1, random_state=4)\n",
    "    gride_mod.fit(X1_train, y1_train)\n",
    "    scores_CV5_1.append({'model':'LGBM classifier', 'best_score AUC':gride_mod.best_score_, 'best parameters':gride_mod.best_params_,\n",
    "                       'Best model':gride_mod.best_estimator_,'Refit Time(s)':gride_mod.refit_time_, 'Comment':f'{sampler} train data'})\n",
    "\n",
    "# create df results\n",
    "print(f'RandomSearchCV execution time(s): {time.time() - time_init}')\n",
    "df_scores_CV5_1 = df_scores_CV5_1.append(scores_CV5_1, ignore_index=True)\n",
    "df_scores_CV5_1"
   ]
  },
  {
   "cell_type": "markdown",
   "id": "fa2f4064",
   "metadata": {
    "papermill": {
     "duration": 0.029571,
     "end_time": "2021-12-06T14:38:56.093667",
     "exception": false,
     "start_time": "2021-12-06T14:38:56.064096",
     "status": "completed"
    },
    "tags": []
   },
   "source": [
    " #### Validation scores over reduced data"
   ]
  },
  {
   "cell_type": "code",
   "execution_count": 16,
   "id": "5d65a359",
   "metadata": {
    "execution": {
     "iopub.execute_input": "2021-12-06T14:38:56.161314Z",
     "iopub.status.busy": "2021-12-06T14:38:56.160629Z",
     "iopub.status.idle": "2021-12-06T14:43:40.401756Z",
     "shell.execute_reply": "2021-12-06T14:43:40.402246Z",
     "shell.execute_reply.started": "2021-12-05T14:44:27.763607Z"
    },
    "papermill": {
     "duration": 284.279636,
     "end_time": "2021-12-06T14:43:40.402431",
     "exception": false,
     "start_time": "2021-12-06T14:38:56.122795",
     "status": "completed"
    },
    "tags": []
   },
   "outputs": [
    {
     "data": {
      "text/html": [
       "<div>\n",
       "<style scoped>\n",
       "    .dataframe tbody tr th:only-of-type {\n",
       "        vertical-align: middle;\n",
       "    }\n",
       "\n",
       "    .dataframe tbody tr th {\n",
       "        vertical-align: top;\n",
       "    }\n",
       "\n",
       "    .dataframe thead th {\n",
       "        text-align: right;\n",
       "    }\n",
       "</style>\n",
       "<table border=\"1\" class=\"dataframe\">\n",
       "  <thead>\n",
       "    <tr style=\"text-align: right;\">\n",
       "      <th></th>\n",
       "      <th>model</th>\n",
       "      <th>Score AUC</th>\n",
       "      <th>F1_score</th>\n",
       "      <th>F2_score</th>\n",
       "      <th>Precision_score</th>\n",
       "      <th>Recall_score</th>\n",
       "      <th>Train Time(s)</th>\n",
       "      <th>Predict Time(s)</th>\n",
       "      <th>Comment</th>\n",
       "    </tr>\n",
       "  </thead>\n",
       "  <tbody>\n",
       "    <tr>\n",
       "      <th>0</th>\n",
       "      <td>Dummy_stratified</td>\n",
       "      <td>0.500000</td>\n",
       "      <td>0.000000</td>\n",
       "      <td>0.000000</td>\n",
       "      <td>0.000000</td>\n",
       "      <td>0.000000</td>\n",
       "      <td>0.000789</td>\n",
       "      <td>0.000470</td>\n",
       "      <td>test data score</td>\n",
       "    </tr>\n",
       "    <tr>\n",
       "      <th>1</th>\n",
       "      <td>Logistic_Regression</td>\n",
       "      <td>0.675819</td>\n",
       "      <td>0.228407</td>\n",
       "      <td>0.333147</td>\n",
       "      <td>0.149874</td>\n",
       "      <td>0.479839</td>\n",
       "      <td>42.011471</td>\n",
       "      <td>0.011507</td>\n",
       "      <td>test data score with SMOTE(random_state=4) tra...</td>\n",
       "    </tr>\n",
       "    <tr>\n",
       "      <th>2</th>\n",
       "      <td>Logistic_Regression</td>\n",
       "      <td>0.652021</td>\n",
       "      <td>0.208814</td>\n",
       "      <td>0.347003</td>\n",
       "      <td>0.125509</td>\n",
       "      <td>0.620968</td>\n",
       "      <td>1.432511</td>\n",
       "      <td>0.004130</td>\n",
       "      <td>test data score with RandomUnderSampler(random...</td>\n",
       "    </tr>\n",
       "    <tr>\n",
       "      <th>3</th>\n",
       "      <td>Kneighbors classifier</td>\n",
       "      <td>0.561193</td>\n",
       "      <td>0.150459</td>\n",
       "      <td>0.306428</td>\n",
       "      <td>0.081403</td>\n",
       "      <td>0.991935</td>\n",
       "      <td>7.261066</td>\n",
       "      <td>129.882486</td>\n",
       "      <td>test data score with SMOTE(random_state=4) tra...</td>\n",
       "    </tr>\n",
       "    <tr>\n",
       "      <th>4</th>\n",
       "      <td>Kneighbors classifier</td>\n",
       "      <td>0.684311</td>\n",
       "      <td>0.260123</td>\n",
       "      <td>0.339962</td>\n",
       "      <td>0.186949</td>\n",
       "      <td>0.427419</td>\n",
       "      <td>0.212038</td>\n",
       "      <td>12.086036</td>\n",
       "      <td>test data score with RandomUnderSampler(random...</td>\n",
       "    </tr>\n",
       "    <tr>\n",
       "      <th>5</th>\n",
       "      <td>RandomForest classifier</td>\n",
       "      <td>0.677536</td>\n",
       "      <td>0.064516</td>\n",
       "      <td>0.047438</td>\n",
       "      <td>0.161290</td>\n",
       "      <td>0.040323</td>\n",
       "      <td>14.004450</td>\n",
       "      <td>0.054124</td>\n",
       "      <td>test data score with SMOTE(random_state=4) tra...</td>\n",
       "    </tr>\n",
       "    <tr>\n",
       "      <th>6</th>\n",
       "      <td>RandomForest classifier</td>\n",
       "      <td>0.744366</td>\n",
       "      <td>0.263602</td>\n",
       "      <td>0.419717</td>\n",
       "      <td>0.162725</td>\n",
       "      <td>0.693548</td>\n",
       "      <td>0.544452</td>\n",
       "      <td>0.028966</td>\n",
       "      <td>test data score with RandomUnderSampler(random...</td>\n",
       "    </tr>\n",
       "    <tr>\n",
       "      <th>7</th>\n",
       "      <td>XGBoost classifier</td>\n",
       "      <td>0.733266</td>\n",
       "      <td>0.037453</td>\n",
       "      <td>0.024728</td>\n",
       "      <td>0.263158</td>\n",
       "      <td>0.020161</td>\n",
       "      <td>47.309173</td>\n",
       "      <td>0.043764</td>\n",
       "      <td>test data score with SMOTE(random_state=4) tra...</td>\n",
       "    </tr>\n",
       "    <tr>\n",
       "      <th>8</th>\n",
       "      <td>XGBoost classifier</td>\n",
       "      <td>0.714046</td>\n",
       "      <td>0.235469</td>\n",
       "      <td>0.378715</td>\n",
       "      <td>0.144424</td>\n",
       "      <td>0.637097</td>\n",
       "      <td>1.184915</td>\n",
       "      <td>0.038888</td>\n",
       "      <td>test data score with RandomUnderSampler(random...</td>\n",
       "    </tr>\n",
       "    <tr>\n",
       "      <th>9</th>\n",
       "      <td>LGBM classifier</td>\n",
       "      <td>0.736953</td>\n",
       "      <td>0.037175</td>\n",
       "      <td>0.024679</td>\n",
       "      <td>0.238095</td>\n",
       "      <td>0.020161</td>\n",
       "      <td>8.545971</td>\n",
       "      <td>0.018568</td>\n",
       "      <td>test data score with SMOTE(random_state=4) tra...</td>\n",
       "    </tr>\n",
       "    <tr>\n",
       "      <th>10</th>\n",
       "      <td>LGBM classifier</td>\n",
       "      <td>0.729890</td>\n",
       "      <td>0.258065</td>\n",
       "      <td>0.410557</td>\n",
       "      <td>0.159393</td>\n",
       "      <td>0.677419</td>\n",
       "      <td>1.108452</td>\n",
       "      <td>0.019993</td>\n",
       "      <td>test data score with RandomUnderSampler(random...</td>\n",
       "    </tr>\n",
       "  </tbody>\n",
       "</table>\n",
       "</div>"
      ],
      "text/plain": [
       "                      model  Score AUC  F1_score  F2_score  Precision_score  \\\n",
       "0          Dummy_stratified   0.500000  0.000000  0.000000         0.000000   \n",
       "1       Logistic_Regression   0.675819  0.228407  0.333147         0.149874   \n",
       "2       Logistic_Regression   0.652021  0.208814  0.347003         0.125509   \n",
       "3     Kneighbors classifier   0.561193  0.150459  0.306428         0.081403   \n",
       "4     Kneighbors classifier   0.684311  0.260123  0.339962         0.186949   \n",
       "5   RandomForest classifier   0.677536  0.064516  0.047438         0.161290   \n",
       "6   RandomForest classifier   0.744366  0.263602  0.419717         0.162725   \n",
       "7        XGBoost classifier   0.733266  0.037453  0.024728         0.263158   \n",
       "8        XGBoost classifier   0.714046  0.235469  0.378715         0.144424   \n",
       "9           LGBM classifier   0.736953  0.037175  0.024679         0.238095   \n",
       "10          LGBM classifier   0.729890  0.258065  0.410557         0.159393   \n",
       "\n",
       "    Recall_score  Train Time(s)  Predict Time(s)  \\\n",
       "0       0.000000       0.000789         0.000470   \n",
       "1       0.479839      42.011471         0.011507   \n",
       "2       0.620968       1.432511         0.004130   \n",
       "3       0.991935       7.261066       129.882486   \n",
       "4       0.427419       0.212038        12.086036   \n",
       "5       0.040323      14.004450         0.054124   \n",
       "6       0.693548       0.544452         0.028966   \n",
       "7       0.020161      47.309173         0.043764   \n",
       "8       0.637097       1.184915         0.038888   \n",
       "9       0.020161       8.545971         0.018568   \n",
       "10      0.677419       1.108452         0.019993   \n",
       "\n",
       "                                              Comment  \n",
       "0                                     test data score  \n",
       "1   test data score with SMOTE(random_state=4) tra...  \n",
       "2   test data score with RandomUnderSampler(random...  \n",
       "3   test data score with SMOTE(random_state=4) tra...  \n",
       "4   test data score with RandomUnderSampler(random...  \n",
       "5   test data score with SMOTE(random_state=4) tra...  \n",
       "6   test data score with RandomUnderSampler(random...  \n",
       "7   test data score with SMOTE(random_state=4) tra...  \n",
       "8   test data score with RandomUnderSampler(random...  \n",
       "9   test data score with SMOTE(random_state=4) tra...  \n",
       "10  test data score with RandomUnderSampler(random...  "
      ]
     },
     "execution_count": 16,
     "metadata": {},
     "output_type": "execute_result"
    }
   ],
   "source": [
    "# create list with probability on the validation test\n",
    "y_pred_prob_list = list()\n",
    "# add dummy classifier result to problist for our basline\n",
    "y_pred_prob_list.append(y_pred_pro_dumm_const_1)\n",
    "# Results for each best models with test data\n",
    "for i in df_scores_CV5_1.index:\n",
    "    model = df_scores_CV5_1.iloc[i,3]\n",
    "    time_init = time.time()\n",
    "    time_1 = time.time()\n",
    "    y_pred_model = model.predict(X1_test)\n",
    "    time_2 = time.time()\n",
    "    y_pred_prob_model = model.predict_proba(X1_test)[:,1]\n",
    "    # filling df with results for each models\n",
    "    summary_result = list()\n",
    "    summary_result.append({'model': df_scores_CV5_1.iloc[i, 0], 'Score AUC':roc_auc_score(y1_test, y_pred_prob_model), \n",
    "                       'F1_score': f1_score(y1_test, y_pred_model), 'F2_score': fbeta_score(y1_test, y_pred_model, beta=2),\n",
    "                        'Precision_score': precision_score(y1_test,y_pred_model), 'Recall_score': recall_score(y1_test, y_pred_model),\n",
    "                       'Train Time(s)':df_scores_CV5_1.iloc[i, 4], 'Predict Time(s)': time_2 - time_1 , \n",
    "                        'Comment': f'test data score with {df_scores_CV5_1.iloc[i, 5]}'})\n",
    "    df_summary_result1 = df_summary_result1.append(summary_result, ignore_index=True)\n",
    "    y_pred_prob_list.append(y_pred_prob_model)\n",
    "df_summary_result1"
   ]
  },
  {
   "cell_type": "markdown",
   "id": "2f1a4fde",
   "metadata": {
    "papermill": {
     "duration": 0.029172,
     "end_time": "2021-12-06T14:43:40.461482",
     "exception": false,
     "start_time": "2021-12-06T14:43:40.432310",
     "status": "completed"
    },
    "tags": []
   },
   "source": [
    "##### ROC and Precision/Recall curves data reduced"
   ]
  },
  {
   "cell_type": "code",
   "execution_count": 17,
   "id": "045d95a3",
   "metadata": {
    "execution": {
     "iopub.execute_input": "2021-12-06T14:43:40.530027Z",
     "iopub.status.busy": "2021-12-06T14:43:40.529364Z",
     "iopub.status.idle": "2021-12-06T14:43:40.531240Z",
     "shell.execute_reply": "2021-12-06T14:43:40.531729Z",
     "shell.execute_reply.started": "2021-12-05T15:05:21.043339Z"
    },
    "papermill": {
     "duration": 0.040936,
     "end_time": "2021-12-06T14:43:40.531925",
     "exception": false,
     "start_time": "2021-12-06T14:43:40.490989",
     "status": "completed"
    },
    "tags": []
   },
   "outputs": [],
   "source": [
    "# Function to plot ROC and Precision-Recall curves\n",
    "def ROC_PR_curves(test_labels, list_pred_proba, models_name):\n",
    "    '''Function to plot ROC and PR curves\n",
    "    test_labels --> True labels to predicts, y_test for example 1_D\n",
    "    list_pred_proba --> models predicts probalbility 1-D\n",
    "    models_name --> list of models names in the same order than list_predict_proba'''\n",
    "    # figure init\n",
    "    fig, (ax1, ax2) = plt.subplots(nrows=1, ncols=2, figsize=(15,7))\n",
    "    plt.suptitle('ROC / PR curves for our models (validation data)', fontweight='bold')\n",
    "    ax1.plot([0,1], [0,1], 'k--')\n",
    "    ax2.plot([0,1], [0,0], 'k--')\n",
    "    ax1.set_title('ROC')\n",
    "    ax1.set_xlabel('False Positive Rate')\n",
    "    ax1.set_ylabel('True Positive Rate')\n",
    "    ax2.set_title('Precision / Recall')\n",
    "    ax2.set_xlabel('Recall')\n",
    "    ax2.set_ylabel('Precision')\n",
    "    # counter for getting models names\n",
    "    count=0\n",
    "    for pred_prob in list_pred_proba:\n",
    "        # fpr and tpr calcul\n",
    "        fpr, tpr, _ = roc_curve(test_labels, pred_prob)\n",
    "        # Precision and recall calcul\n",
    "        pr, rec, _ = precision_recall_curve(test_labels, pred_prob)\n",
    "        # Plot ROC curve\n",
    "        ax1.plot(fpr, tpr, label=f'{models_name[count]} / AUC={roc_auc_score(test_labels, pred_prob):.3f}')\n",
    "        # Plot PR curve\n",
    "        ax2.plot(rec, pr, label=models_name[count])\n",
    "        count+=1\n",
    "    ax1.legend()\n",
    "    # ax2.legend() optionnal\n",
    "    plt.show()"
   ]
  },
  {
   "cell_type": "code",
   "execution_count": 18,
   "id": "589773d5",
   "metadata": {
    "execution": {
     "iopub.execute_input": "2021-12-06T14:43:40.597946Z",
     "iopub.status.busy": "2021-12-06T14:43:40.593261Z",
     "iopub.status.idle": "2021-12-06T14:43:41.125706Z",
     "shell.execute_reply": "2021-12-06T14:43:41.126203Z",
     "shell.execute_reply.started": "2021-12-05T15:03:22.773015Z"
    },
    "papermill": {
     "duration": 0.56528,
     "end_time": "2021-12-06T14:43:41.126371",
     "exception": false,
     "start_time": "2021-12-06T14:43:40.561091",
     "status": "completed"
    },
    "tags": []
   },
   "outputs": [
    {
     "data": {
      "image/png": "[encoded data removed]",
      "text/plain": [
       "<Figure size 1080x504 with 2 Axes>"
      ]
     },
     "metadata": {
      "needs_background": "light"
     },
     "output_type": "display_data"
    }
   ],
   "source": [
    "ROC_PR_curves(y1_test, y_pred_prob_list, df_summary_result1['model'])"
   ]
  },
  {
   "cell_type": "markdown",
   "id": "54b03b85",
   "metadata": {
    "papermill": {
     "duration": 0.033104,
     "end_time": "2021-12-06T14:43:41.192791",
     "exception": false,
     "start_time": "2021-12-06T14:43:41.159687",
     "status": "completed"
    },
    "tags": []
   },
   "source": [
    "--> Our models are better has random model with the probability to reject on the most frequent class (never here) <br/>\n",
    "--> Best scores are obtained with RUS and two models (RandomForest line 6 / LGBM line 10) seems to compete in terms of: <br>\n",
    "* AUC scoring (it is our scoring method)\n",
    "* Train time\n",
    "* F2 score (interresting because it advantages the recall score over precision and this is what we want on our problematic)"
   ]
  },
  {
   "cell_type": "markdown",
   "id": "4ef7791d",
   "metadata": {
    "papermill": {
     "duration": 0.033373,
     "end_time": "2021-12-06T14:43:41.259580",
     "exception": false,
     "start_time": "2021-12-06T14:43:41.226207",
     "status": "completed"
    },
    "tags": []
   },
   "source": [
    " #### Validation scores for our two best models over all our data with RUS"
   ]
  },
  {
   "cell_type": "code",
   "execution_count": 19,
   "id": "4ab63f82",
   "metadata": {
    "execution": {
     "iopub.execute_input": "2021-12-06T14:43:41.329479Z",
     "iopub.status.busy": "2021-12-06T14:43:41.328919Z",
     "iopub.status.idle": "2021-12-06T14:43:41.573088Z",
     "shell.execute_reply": "2021-12-06T14:43:41.572556Z",
     "shell.execute_reply.started": "2021-12-05T15:07:30.862071Z"
    },
    "papermill": {
     "duration": 0.280214,
     "end_time": "2021-12-06T14:43:41.573227",
     "exception": false,
     "start_time": "2021-12-06T14:43:41.293013",
     "status": "completed"
    },
    "tags": []
   },
   "outputs": [
    {
     "data": {
      "text/plain": [
       "8645"
      ]
     },
     "execution_count": 19,
     "metadata": {},
     "output_type": "execute_result"
    }
   ],
   "source": [
    "# try to garbage X1 and y1 for memory usage\n",
    "del X1, y1, X1_train, y1_train\n",
    "gc.collect()"
   ]
  },
  {
   "cell_type": "code",
   "execution_count": 20,
   "id": "786df2d0",
   "metadata": {
    "execution": {
     "iopub.execute_input": "2021-12-06T14:43:41.646122Z",
     "iopub.status.busy": "2021-12-06T14:43:41.642569Z",
     "iopub.status.idle": "2021-12-06T14:43:54.703816Z",
     "shell.execute_reply": "2021-12-06T14:43:54.704636Z",
     "shell.execute_reply.started": "2021-12-05T15:07:59.026251Z"
    },
    "papermill": {
     "duration": 13.098628,
     "end_time": "2021-12-06T14:43:54.704895",
     "exception": false,
     "start_time": "2021-12-06T14:43:41.606267",
     "status": "completed"
    },
    "tags": []
   },
   "outputs": [
    {
     "name": "stdout",
     "output_type": "stream",
     "text": [
      "Time for Spliting and Normalize: 13.05\n"
     ]
    }
   ],
   "source": [
    "# spliting and use our overall data\n",
    "time_init = time.time()\n",
    "# Data split (80% of train set)\n",
    "X_train, X_test, y_train, y_test = train_test_split(X, y, train_size=0.8, stratify=y, random_state=4)\n",
    "# get X_train and X_test index\n",
    "X_train_index = X_train.index\n",
    "X_test_index = X_test.index\n",
    "# Normalization of the imput data\n",
    "std_scaler = StandardScaler()\n",
    "std_scaler.fit(X_train)\n",
    "X_train = std_scaler.transform(X_train)\n",
    "X_test = std_scaler.transform(X_test)\n",
    "print (f'Time for Spliting and Normalize: {time.time() - time_init:.2f}')"
   ]
  },
  {
   "cell_type": "code",
   "execution_count": 21,
   "id": "9a51bc2e",
   "metadata": {
    "execution": {
     "iopub.execute_input": "2021-12-06T14:43:54.817583Z",
     "iopub.status.busy": "2021-12-06T14:43:54.816893Z",
     "iopub.status.idle": "2021-12-06T14:44:15.552004Z",
     "shell.execute_reply": "2021-12-06T14:44:15.552418Z",
     "shell.execute_reply.started": "2021-12-05T15:10:24.030703Z"
    },
    "papermill": {
     "duration": 20.799527,
     "end_time": "2021-12-06T14:44:15.552586",
     "exception": false,
     "start_time": "2021-12-06T14:43:54.753059",
     "status": "completed"
    },
    "tags": []
   },
   "outputs": [
    {
     "data": {
      "text/html": [
       "<div>\n",
       "<style scoped>\n",
       "    .dataframe tbody tr th:only-of-type {\n",
       "        vertical-align: middle;\n",
       "    }\n",
       "\n",
       "    .dataframe tbody tr th {\n",
       "        vertical-align: top;\n",
       "    }\n",
       "\n",
       "    .dataframe thead th {\n",
       "        text-align: right;\n",
       "    }\n",
       "</style>\n",
       "<table border=\"1\" class=\"dataframe\">\n",
       "  <thead>\n",
       "    <tr style=\"text-align: right;\">\n",
       "      <th></th>\n",
       "      <th>model</th>\n",
       "      <th>Score AUC</th>\n",
       "      <th>F1_score</th>\n",
       "      <th>F2_score</th>\n",
       "      <th>Precision_score</th>\n",
       "      <th>Recall_score</th>\n",
       "      <th>Train Time(s)</th>\n",
       "      <th>Predict Time(s)</th>\n",
       "      <th>Comment</th>\n",
       "    </tr>\n",
       "  </thead>\n",
       "  <tbody>\n",
       "    <tr>\n",
       "      <th>0</th>\n",
       "      <td>RandomForest classifier</td>\n",
       "      <td>0.732618</td>\n",
       "      <td>0.247759</td>\n",
       "      <td>0.399193</td>\n",
       "      <td>0.151790</td>\n",
       "      <td>0.673716</td>\n",
       "      <td>0.544452</td>\n",
       "      <td>0.509210</td>\n",
       "      <td>RandomUnderSampler(random_state=4) train data</td>\n",
       "    </tr>\n",
       "    <tr>\n",
       "      <th>1</th>\n",
       "      <td>LGBM classifier</td>\n",
       "      <td>0.772480</td>\n",
       "      <td>0.278970</td>\n",
       "      <td>0.437825</td>\n",
       "      <td>0.173844</td>\n",
       "      <td>0.705740</td>\n",
       "      <td>1.108452</td>\n",
       "      <td>0.411397</td>\n",
       "      <td>RandomUnderSampler(random_state=4) train data</td>\n",
       "    </tr>\n",
       "  </tbody>\n",
       "</table>\n",
       "</div>"
      ],
      "text/plain": [
       "                     model  Score AUC  F1_score  F2_score  Precision_score  \\\n",
       "0  RandomForest classifier   0.732618  0.247759  0.399193         0.151790   \n",
       "1          LGBM classifier   0.772480  0.278970  0.437825         0.173844   \n",
       "\n",
       "   Recall_score  Train Time(s)  Predict Time(s)  \\\n",
       "0      0.673716       0.544452         0.509210   \n",
       "1      0.705740       1.108452         0.411397   \n",
       "\n",
       "                                         Comment  \n",
       "0  RandomUnderSampler(random_state=4) train data  \n",
       "1  RandomUnderSampler(random_state=4) train data  "
      ]
     },
     "execution_count": 21,
     "metadata": {},
     "output_type": "execute_result"
    }
   ],
   "source": [
    "# Trying our two RUS best model (line 5 and line 9 of our first results df_scores_CV5_1)\n",
    "# defining new list for proba\n",
    "summary_result1 = list()\n",
    "y_pred_prob_list1 = list()\n",
    "for i in [5, 9]:\n",
    "    model = df_scores_CV5_1.iloc[i,3]\n",
    "    time_init = time.time()\n",
    "    model.fit(X_train, y_train)\n",
    "    time_1 = time.time()\n",
    "    y_pred_model = model.predict(X_test)\n",
    "    time_2 = time.time()\n",
    "    y_pred_prob_model = model.predict_proba(X_test)[:,1]\n",
    "    # filling list with results for each models\n",
    "    summary_result1.append({'model': df_scores_CV5_1.iloc[i, 0], 'Score AUC':roc_auc_score(y_test, y_pred_prob_model), \n",
    "                       'F1_score': f1_score(y_test, y_pred_model), 'F2_score': fbeta_score(y_test, y_pred_model, beta=2),\n",
    "                        'Precision_score': precision_score(y_test,y_pred_model), 'Recall_score': recall_score(y_test, y_pred_model),\n",
    "                       'Train Time(s)':df_scores_CV5_1.iloc[i, 4], 'Predict Time(s)': time_2 - time_1 , 'Comment': df_scores_CV5_1.iloc[i, 5]})\n",
    "    y_pred_prob_list1.append(y_pred_prob_model)\n",
    "df_summary_result2 = pd.DataFrame(summary_result1)\n",
    "df_summary_result2"
   ]
  },
  {
   "cell_type": "markdown",
   "id": "9994909a",
   "metadata": {
    "papermill": {
     "duration": 0.03404,
     "end_time": "2021-12-06T14:44:15.620828",
     "exception": false,
     "start_time": "2021-12-06T14:44:15.586788",
     "status": "completed"
    },
    "tags": []
   },
   "source": [
    "##### ROC and Precision/Recall curves"
   ]
  },
  {
   "cell_type": "code",
   "execution_count": 22,
   "id": "2ef47ea6",
   "metadata": {
    "execution": {
     "iopub.execute_input": "2021-12-06T14:44:15.691700Z",
     "iopub.status.busy": "2021-12-06T14:44:15.691131Z",
     "iopub.status.idle": "2021-12-06T14:44:16.148793Z",
     "shell.execute_reply": "2021-12-06T14:44:16.148300Z",
     "shell.execute_reply.started": "2021-12-05T15:15:44.516599Z"
    },
    "papermill": {
     "duration": 0.494146,
     "end_time": "2021-12-06T14:44:16.148950",
     "exception": false,
     "start_time": "2021-12-06T14:44:15.654804",
     "status": "completed"
    },
    "tags": []
   },
   "outputs": [
    {
     "data": {
      "image/png": "[encoded data removed]",
      "text/plain": [
       "<Figure size 1080x504 with 2 Axes>"
      ]
     },
     "metadata": {
      "needs_background": "light"
     },
     "output_type": "display_data"
    }
   ],
   "source": [
    "ROC_PR_curves(y_test, y_pred_prob_list1, df_summary_result2['model'])"
   ]
  },
  {
   "cell_type": "markdown",
   "id": "797dd087",
   "metadata": {
    "papermill": {
     "duration": 0.035737,
     "end_time": "2021-12-06T14:44:16.220438",
     "exception": false,
     "start_time": "2021-12-06T14:44:16.184701",
     "status": "completed"
    },
    "tags": []
   },
   "source": [
    "--> We select LGBM for the next with parameters:<br>\n",
    "* n_estimator = 60\n",
    "* max_depth = 7\n",
    "* learning_rate = 0.1\n",
    "* random_state=4 <br>\n",
    "\n",
    "--> We will try a GirdSearchCV around these parameters on a custom metric with this model"
   ]
  }
 ],
 "metadata": {
  "kernelspec": {
   "display_name": "Python 3",
   "language": "python",
   "name": "python3"
  },
  "language_info": {
   "codemirror_mode": {
    "name": "ipython",
    "version": 3
   },
   "file_extension": ".py",
   "mimetype": "text/x-python",
   "name": "python",
   "nbconvert_exporter": "python",
   "pygments_lexer": "ipython3",
   "version": "3.7.12"
  },
  "papermill": {
   "default_parameters": {},
   "duration": 7063.074047,
   "end_time": "2021-12-06T14:44:17.280921",
   "environment_variables": {},
   "exception": null,
   "input_path": "__notebook__.ipynb",
   "output_path": "__notebook__.ipynb",
   "parameters": {},
   "start_time": "2021-12-06T12:46:34.206874",
   "version": "2.3.3"
  }
 },
 "nbformat": 4,
 "nbformat_minor": 5
}
